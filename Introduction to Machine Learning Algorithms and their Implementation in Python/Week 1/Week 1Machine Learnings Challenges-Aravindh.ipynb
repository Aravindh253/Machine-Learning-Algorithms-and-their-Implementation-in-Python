{
 "cells": [
  {
   "cell_type": "markdown",
   "id": "b1141652",
   "metadata": {},
   "source": [
    "## 1.Create a list and tuple of the above table. Now map resistor to 0, inductors to 1 and capacitors to 2 using dictionary"
   ]
  },
  {
   "cell_type": "code",
   "execution_count": 4,
   "id": "77f2ed94",
   "metadata": {},
   "outputs": [],
   "source": [
    "import pandas as pd\n",
    "import numpy as np"
   ]
  },
  {
   "cell_type": "code",
   "execution_count": 5,
   "id": "4eca1847",
   "metadata": {},
   "outputs": [],
   "source": [
    "dic={\"resistor\":0,\"inductors\":1,\"capcitors\":2}"
   ]
  },
  {
   "cell_type": "code",
   "execution_count": 6,
   "id": "7ff3730a",
   "metadata": {},
   "outputs": [
    {
     "data": {
      "text/plain": [
       "{'resistor': 0, 'inductors': 1, 'capcitors': 2}"
      ]
     },
     "execution_count": 6,
     "metadata": {},
     "output_type": "execute_result"
    }
   ],
   "source": [
    "dic"
   ]
  },
  {
   "cell_type": "code",
   "execution_count": 7,
   "id": "47315348",
   "metadata": {},
   "outputs": [],
   "source": [
    "df=pd.DataFrame([[\"CN1\",\"Resistor\",345,500],\n",
    "                [\"CN2\",\"Inductors\",560,690],\n",
    "                [\"CN3\",\"Capcitors\",700,750]],\n",
    "               columns=['Circuit No', 'Type','Cost Price','Selling Price'],)"
   ]
  },
  {
   "cell_type": "code",
   "execution_count": 8,
   "id": "fddbc9ed",
   "metadata": {},
   "outputs": [
    {
     "data": {
      "text/html": [
       "<div>\n",
       "<style scoped>\n",
       "    .dataframe tbody tr th:only-of-type {\n",
       "        vertical-align: middle;\n",
       "    }\n",
       "\n",
       "    .dataframe tbody tr th {\n",
       "        vertical-align: top;\n",
       "    }\n",
       "\n",
       "    .dataframe thead th {\n",
       "        text-align: right;\n",
       "    }\n",
       "</style>\n",
       "<table border=\"1\" class=\"dataframe\">\n",
       "  <thead>\n",
       "    <tr style=\"text-align: right;\">\n",
       "      <th></th>\n",
       "      <th>Circuit No</th>\n",
       "      <th>Type</th>\n",
       "      <th>Cost Price</th>\n",
       "      <th>Selling Price</th>\n",
       "    </tr>\n",
       "  </thead>\n",
       "  <tbody>\n",
       "    <tr>\n",
       "      <th>0</th>\n",
       "      <td>CN1</td>\n",
       "      <td>Resistor</td>\n",
       "      <td>345</td>\n",
       "      <td>500</td>\n",
       "    </tr>\n",
       "    <tr>\n",
       "      <th>1</th>\n",
       "      <td>CN2</td>\n",
       "      <td>Inductors</td>\n",
       "      <td>560</td>\n",
       "      <td>690</td>\n",
       "    </tr>\n",
       "    <tr>\n",
       "      <th>2</th>\n",
       "      <td>CN3</td>\n",
       "      <td>Capcitors</td>\n",
       "      <td>700</td>\n",
       "      <td>750</td>\n",
       "    </tr>\n",
       "  </tbody>\n",
       "</table>\n",
       "</div>"
      ],
      "text/plain": [
       "  Circuit No       Type  Cost Price  Selling Price\n",
       "0        CN1   Resistor         345            500\n",
       "1        CN2  Inductors         560            690\n",
       "2        CN3  Capcitors         700            750"
      ]
     },
     "execution_count": 8,
     "metadata": {},
     "output_type": "execute_result"
    }
   ],
   "source": [
    "df"
   ]
  },
  {
   "cell_type": "code",
   "execution_count": null,
   "id": "769bee70",
   "metadata": {},
   "outputs": [],
   "source": []
  },
  {
   "cell_type": "markdown",
   "id": "fddc3f21",
   "metadata": {},
   "source": [
    "## 2.A sigmoidal function is given by𝑠𝑖𝑔𝑚𝑜𝑖𝑑=𝜎(𝑧)= 1/(1+𝑒^−𝑧)(Actual)Define a sigmoidal function in Python. Now take 𝑧=1,𝑧=−1,𝑧=0 and calculate values of sigmoid function (𝜎(𝑧)) defined by you."
   ]
  },
  {
   "cell_type": "code",
   "execution_count": 9,
   "id": "5222d398",
   "metadata": {},
   "outputs": [],
   "source": [
    "import math \n",
    "def sigmoid(z):\n",
    "    n=1/(1+math.exp(-z))\n",
    "    return n\n"
   ]
  },
  {
   "cell_type": "code",
   "execution_count": 10,
   "id": "5c6f1eed",
   "metadata": {},
   "outputs": [
    {
     "data": {
      "text/plain": [
       "0.7310585786300049"
      ]
     },
     "execution_count": 10,
     "metadata": {},
     "output_type": "execute_result"
    }
   ],
   "source": [
    "sigmoid(1)"
   ]
  },
  {
   "cell_type": "code",
   "execution_count": 11,
   "id": "3e6eb6f2",
   "metadata": {},
   "outputs": [
    {
     "data": {
      "text/plain": [
       "0.2689414213699951"
      ]
     },
     "execution_count": 11,
     "metadata": {},
     "output_type": "execute_result"
    }
   ],
   "source": [
    "sigmoid(-1)"
   ]
  },
  {
   "cell_type": "code",
   "execution_count": 13,
   "id": "55e165c2",
   "metadata": {},
   "outputs": [
    {
     "data": {
      "text/plain": [
       "0.5"
      ]
     },
     "execution_count": 13,
     "metadata": {},
     "output_type": "execute_result"
    }
   ],
   "source": [
    "sigmoid(0)"
   ]
  },
  {
   "cell_type": "code",
   "execution_count": null,
   "id": "470b9b9c",
   "metadata": {},
   "outputs": [],
   "source": []
  },
  {
   "cell_type": "markdown",
   "id": "9bc1938e",
   "metadata": {},
   "source": [
    "## 3.. Now take 𝑧=[1,−1,0]. Now calculate value of sigmoid function (𝜎(𝑧)) defined by you. What did you observed, now try to correct something in your code or input method to get the values? (Use numpy to fix the problem faced)"
   ]
  },
  {
   "cell_type": "code",
   "execution_count": null,
   "id": "492194ce",
   "metadata": {},
   "outputs": [],
   "source": []
  },
  {
   "cell_type": "code",
   "execution_count": 14,
   "id": "3432d085",
   "metadata": {},
   "outputs": [
    {
     "name": "stdout",
     "output_type": "stream",
     "text": [
      "[0.73105858 0.26894142 0.5       ]\n"
     ]
    }
   ],
   "source": [
    "import numpy as np\n",
    "import math \n",
    "def sigmoid():\n",
    "    z=np.array([1,-1,0])\n",
    "    n=1/(1+np.exp(-z))    \n",
    "    print(n)\n",
    "sigmoid()"
   ]
  },
  {
   "cell_type": "code",
   "execution_count": null,
   "id": "db824073",
   "metadata": {},
   "outputs": [],
   "source": []
  },
  {
   "cell_type": "code",
   "execution_count": null,
   "id": "69996199",
   "metadata": {},
   "outputs": [],
   "source": []
  },
  {
   "cell_type": "code",
   "execution_count": null,
   "id": "85c6f4dd",
   "metadata": {},
   "outputs": [],
   "source": []
  }
 ],
 "metadata": {
  "kernelspec": {
   "display_name": "Python 3 (ipykernel)",
   "language": "python",
   "name": "python3"
  },
  "language_info": {
   "codemirror_mode": {
    "name": "ipython",
    "version": 3
   },
   "file_extension": ".py",
   "mimetype": "text/x-python",
   "name": "python",
   "nbconvert_exporter": "python",
   "pygments_lexer": "ipython3",
   "version": "3.9.12"
  }
 },
 "nbformat": 4,
 "nbformat_minor": 5
}
