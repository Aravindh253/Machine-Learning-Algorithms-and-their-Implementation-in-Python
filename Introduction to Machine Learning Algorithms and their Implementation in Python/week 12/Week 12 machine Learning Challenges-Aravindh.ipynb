{
 "cells": [
  {
   "cell_type": "code",
   "execution_count": null,
   "id": "25bd5611",
   "metadata": {},
   "outputs": [],
   "source": [
    "import numpy as np\n",
    "import matplotlib.pyplot as plt\n",
    "import pandas as pd\n",
    "import h5py\n",
    "import scipy\n",
    "from PIL import Image\n",
    "from scipy import ndimage\n",
    "from sklearn.model_selection import train_test_split\n",
    "from sklearn import ensemble\n",
    "from sklearn.metrics import mean_absolute_error\n",
    "import sklearn.externals \n",
    "import tensorflow as tf"
   ]
  },
  {
   "cell_type": "code",
   "execution_count": null,
   "id": "a9067109",
   "metadata": {},
   "outputs": [],
   "source": [
    "test_data=pd.read_csv('mnist_test.csv')\n",
    "train_data=pd.read_csv('mnist_train.csv')"
   ]
  },
  {
   "cell_type": "code",
   "execution_count": null,
   "id": "f104ed18",
   "metadata": {
    "scrolled": true
   },
   "outputs": [],
   "source": [
    "test_data.head()"
   ]
  },
  {
   "cell_type": "code",
   "execution_count": null,
   "id": "b6a9d0c7",
   "metadata": {
    "scrolled": true
   },
   "outputs": [],
   "source": [
    "test_data.info()"
   ]
  },
  {
   "cell_type": "code",
   "execution_count": null,
   "id": "b79fdf93",
   "metadata": {},
   "outputs": [],
   "source": [
    "train_data=pd.read_csv(\"mnist_train.csv\")"
   ]
  },
  {
   "cell_type": "code",
   "execution_count": null,
   "id": "d36814bf",
   "metadata": {
    "scrolled": true
   },
   "outputs": [],
   "source": [
    "train_data.info()"
   ]
  },
  {
   "cell_type": "code",
   "execution_count": null,
   "id": "79b7b31c",
   "metadata": {},
   "outputs": [],
   "source": [
    "test_data.describe()"
   ]
  },
  {
   "cell_type": "code",
   "execution_count": null,
   "id": "d80215db",
   "metadata": {},
   "outputs": [],
   "source": [
    "train_data.describe()"
   ]
  },
  {
   "cell_type": "code",
   "execution_count": null,
   "id": "99ef3ac3",
   "metadata": {},
   "outputs": [],
   "source": [
    "x=test_data['label']\n",
    "x=x.transpose()\n",
    "y=test_data['label']\n",
    "y=y.transpose()"
   ]
  },
  {
   "cell_type": "code",
   "execution_count": null,
   "id": "2e0cfb88",
   "metadata": {},
   "outputs": [],
   "source": [
    "x=train_data['label']\n",
    "x=x.flatten()\n",
    "y=train_data['label']\n",
    "y=y.flatten()"
   ]
  },
  {
   "cell_type": "code",
   "execution_count": null,
   "id": "e9feb800",
   "metadata": {},
   "outputs": [],
   "source": [
    "# normalization\n",
    "x=x/225"
   ]
  },
  {
   "cell_type": "code",
   "execution_count": null,
   "id": "fd389e7e",
   "metadata": {},
   "outputs": [],
   "source": [
    "x_train = x[:785, :]\n",
    "y_train = y[:785]\n",
    "x_test = x[60000:, :]\n",
    "y_test = y[60000:]"
   ]
  },
  {
   "cell_type": "code",
   "execution_count": null,
   "id": "8fe60779",
   "metadata": {},
   "outputs": [],
   "source": [
    "m = x.shape[0]\n",
    "input_layer_size = 784 \n",
    "hidden_layer_size = 100\n",
    "num_labels = 10"
   ]
  },
  {
   "cell_type": "code",
   "execution_count": null,
   "id": "7216f6b6",
   "metadata": {},
   "outputs": [],
   "source": [
    "initial_Theta1 = initialise(hidden_layer_size, input_layer_size)\n",
    "initial_Theta2 = initialise(num_labels, hidden_layer_size)\n"
   ]
  },
  {
   "cell_type": "code",
   "execution_count": null,
   "id": "1f188b14",
   "metadata": {},
   "outputs": [],
   "source": [
    "initial_nn_params = np.concatenate((initial_Theta1.flatten(), initial_Theta2.flatten()))\n",
    "maxiter = 100\n",
    "lambda_reg = 0.1 \n",
    "myargs = (input_layer_size, hidden_layer_size, num_labels, x_train, y_train, lambda_reg)\n"
   ]
  },
  {
   "cell_type": "code",
   "execution_count": null,
   "id": "3aea7591",
   "metadata": {},
   "outputs": [],
   "source": [
    "Theta1 = np.reshape(nn_params[:hidden_layer_size * (input_layer_size + 1)], (\n",
    "                    (hidden_layer_size, input_layer_size + 1)) # shape = (100, 785)\n",
    "Theta2 = np.reshape(nn_params[hidden_layer_size * (input_layer_size + 1):],\n",
    "                    (num_labels, hidden_layer_size + 1)) # shape = (10, 101)\n"
   ]
  },
  {
   "cell_type": "code",
   "execution_count": null,
   "id": "11abc9cb",
   "metadata": {},
   "outputs": [],
   "source": [
    "# Checking test set accuracy of our model\n",
    "pred = predict(Theta1, Theta2, x_test)\n",
    "print('Test Set Accuracy: {:f}'.format((np.mean(pred == y_test) * 100)))\n",
    "\n",
    "# Checking train set accuracy of our model\n",
    "pred = predict(Theta1, Theta2, x_train)\n",
    "print('Training Set Accuracy: {:f}'.format((np.mean(pred == y_train) * 100)))\n"
   ]
  },
  {
   "cell_type": "code",
   "execution_count": null,
   "id": "0b39fa0c",
   "metadata": {},
   "outputs": [],
   "source": [
    "# Evaluating precision of our model\n",
    "true_positive = 0\n",
    "for i in range(len(pred)):\n",
    "    if pred[i] == y_train[i]:\n",
    "        true_positive += 1\n",
    "false_positive = len(y_train) - true_positive\n",
    "print('Precision =', true_positive/(true_positive + false_positive))\n"
   ]
  },
  {
   "cell_type": "code",
   "execution_count": null,
   "id": "78af2fb0",
   "metadata": {},
   "outputs": [],
   "source": [
    "# Saving Thetas in .txt file\n",
    "np.savetxt('Theta1.txt', Theta1, delimiter=' ')\n",
    "np.savetxt('Theta2.txt', Theta2, delimiter=' ')\n"
   ]
  }
 ],
 "metadata": {
  "kernelspec": {
   "display_name": "Python 3",
   "language": "python",
   "name": "python3"
  },
  "language_info": {
   "codemirror_mode": {
    "name": "ipython",
    "version": 3
   },
   "file_extension": ".py",
   "mimetype": "text/x-python",
   "name": "python",
   "nbconvert_exporter": "python",
   "pygments_lexer": "ipython3",
   "version": "3.8.8"
  }
 },
 "nbformat": 4,
 "nbformat_minor": 5
}
