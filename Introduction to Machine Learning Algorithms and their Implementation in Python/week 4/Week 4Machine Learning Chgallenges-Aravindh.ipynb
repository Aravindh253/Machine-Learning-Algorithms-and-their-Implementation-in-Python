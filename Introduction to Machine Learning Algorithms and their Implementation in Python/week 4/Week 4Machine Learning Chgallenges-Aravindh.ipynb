{
 "cells": [
  {
   "cell_type": "markdown",
   "id": "912897d5",
   "metadata": {},
   "source": [
    "## 1. Classify the algorithms into supervised and unsupervised machine learning algorithms\n",
    "## [ Support vector machine, Decision tree, Hierarchical clustering, K-nearest neighbor, K-mean clustering, Naïve Bayes, Principal component analysis, Linear discriminant analysis, independent component analysis]"
   ]
  },
  {
   "cell_type": "code",
   "execution_count": null,
   "id": "7601d58e",
   "metadata": {},
   "outputs": [],
   "source": [
    "#Supervised:\n",
    "supervised machine learning alogrithms : Decision tree,K-nearest neighbor,Naïve \n",
    "Bayes,Support vector machine,Linear discriminant analysis\n",
    "#Unsupervised\n",
    "unsupervised machine learning alogrithms : K-mean clustering,Hierarchical \n",
    "clustering,Principal component analysis,independent component analysis"
   ]
  },
  {
   "cell_type": "code",
   "execution_count": null,
   "id": "108784ec",
   "metadata": {},
   "outputs": [],
   "source": []
  },
  {
   "cell_type": "markdown",
   "id": "ebe54669",
   "metadata": {},
   "source": [
    "## 2)Given a data set, we are going to see how feature extraction can be done. Electric \n",
    " ## motor drive data set is given. (electric_motor.csv).\n",
    "## Steps for feature extraction\n",
    "\n",
    "## (a) Load the data into the variable explorer\n",
    "## (b) Construct covariance matrix\n",
    "## (c) Find Eigen values and Eigen vectors of the matrix\n",
    "## (d) Arrange the Eigen values and Eigen vectors in descending order\n",
    "## (e) Select the number of Eigen values such that the ration of selected and total Eigen values \n",
    "## is 0.95.\n",
    "## (f) After doing this select as many Eigen vector as number of Eigen values selected."
   ]
  },
  {
   "cell_type": "code",
   "execution_count": 1,
   "id": "d1ae195b",
   "metadata": {},
   "outputs": [],
   "source": [
    "import pandas as pd\n",
    "import numpy as np\n",
    "from sklearn.decomposition import PCA\n",
    "from sklearn import preprocessing\n",
    "\n"
   ]
  },
  {
   "cell_type": "code",
   "execution_count": 5,
   "id": "265281be",
   "metadata": {},
   "outputs": [
    {
     "data": {
      "text/html": [
       "<div>\n",
       "<style scoped>\n",
       "    .dataframe tbody tr th:only-of-type {\n",
       "        vertical-align: middle;\n",
       "    }\n",
       "\n",
       "    .dataframe tbody tr th {\n",
       "        vertical-align: top;\n",
       "    }\n",
       "\n",
       "    .dataframe thead th {\n",
       "        text-align: right;\n",
       "    }\n",
       "</style>\n",
       "<table border=\"1\" class=\"dataframe\">\n",
       "  <thead>\n",
       "    <tr style=\"text-align: right;\">\n",
       "      <th></th>\n",
       "      <th>ambient</th>\n",
       "      <th>coolant</th>\n",
       "      <th>u_d</th>\n",
       "      <th>u_q</th>\n",
       "      <th>motor_speed</th>\n",
       "      <th>torque</th>\n",
       "      <th>i_d</th>\n",
       "      <th>i_q</th>\n",
       "      <th>pm</th>\n",
       "      <th>stator_yoke</th>\n",
       "      <th>stator_tooth</th>\n",
       "      <th>stator_winding</th>\n",
       "      <th>profile_id</th>\n",
       "    </tr>\n",
       "  </thead>\n",
       "  <tbody>\n",
       "    <tr>\n",
       "      <th>0</th>\n",
       "      <td>-0.752143</td>\n",
       "      <td>-1.118446</td>\n",
       "      <td>0.327935</td>\n",
       "      <td>-1.297858</td>\n",
       "      <td>-1.222428</td>\n",
       "      <td>-0.250182</td>\n",
       "      <td>1.029572</td>\n",
       "      <td>-0.245860</td>\n",
       "      <td>-2.522071</td>\n",
       "      <td>-1.831422</td>\n",
       "      <td>-2.066143</td>\n",
       "      <td>-2.018033</td>\n",
       "      <td>4</td>\n",
       "    </tr>\n",
       "    <tr>\n",
       "      <th>1</th>\n",
       "      <td>-0.771263</td>\n",
       "      <td>-1.117021</td>\n",
       "      <td>0.329665</td>\n",
       "      <td>-1.297686</td>\n",
       "      <td>-1.222429</td>\n",
       "      <td>-0.249133</td>\n",
       "      <td>1.029509</td>\n",
       "      <td>-0.245832</td>\n",
       "      <td>-2.522418</td>\n",
       "      <td>-1.830969</td>\n",
       "      <td>-2.064859</td>\n",
       "      <td>-2.017631</td>\n",
       "      <td>4</td>\n",
       "    </tr>\n",
       "    <tr>\n",
       "      <th>2</th>\n",
       "      <td>-0.782892</td>\n",
       "      <td>-1.116681</td>\n",
       "      <td>0.332771</td>\n",
       "      <td>-1.301822</td>\n",
       "      <td>-1.222428</td>\n",
       "      <td>-0.249431</td>\n",
       "      <td>1.029448</td>\n",
       "      <td>-0.245818</td>\n",
       "      <td>-2.522673</td>\n",
       "      <td>-1.830400</td>\n",
       "      <td>-2.064073</td>\n",
       "      <td>-2.017343</td>\n",
       "      <td>4</td>\n",
       "    </tr>\n",
       "    <tr>\n",
       "      <th>3</th>\n",
       "      <td>-0.780935</td>\n",
       "      <td>-1.116764</td>\n",
       "      <td>0.333700</td>\n",
       "      <td>-1.301852</td>\n",
       "      <td>-1.222430</td>\n",
       "      <td>-0.248636</td>\n",
       "      <td>1.032845</td>\n",
       "      <td>-0.246955</td>\n",
       "      <td>-2.521639</td>\n",
       "      <td>-1.830333</td>\n",
       "      <td>-2.063137</td>\n",
       "      <td>-2.017632</td>\n",
       "      <td>4</td>\n",
       "    </tr>\n",
       "    <tr>\n",
       "      <th>4</th>\n",
       "      <td>-0.774043</td>\n",
       "      <td>-1.116775</td>\n",
       "      <td>0.335206</td>\n",
       "      <td>-1.303118</td>\n",
       "      <td>-1.222429</td>\n",
       "      <td>-0.248701</td>\n",
       "      <td>1.031807</td>\n",
       "      <td>-0.246610</td>\n",
       "      <td>-2.521900</td>\n",
       "      <td>-1.830498</td>\n",
       "      <td>-2.062795</td>\n",
       "      <td>-2.018145</td>\n",
       "      <td>4</td>\n",
       "    </tr>\n",
       "  </tbody>\n",
       "</table>\n",
       "</div>"
      ],
      "text/plain": [
       "    ambient   coolant       u_d       u_q  motor_speed    torque       i_d  \\\n",
       "0 -0.752143 -1.118446  0.327935 -1.297858    -1.222428 -0.250182  1.029572   \n",
       "1 -0.771263 -1.117021  0.329665 -1.297686    -1.222429 -0.249133  1.029509   \n",
       "2 -0.782892 -1.116681  0.332771 -1.301822    -1.222428 -0.249431  1.029448   \n",
       "3 -0.780935 -1.116764  0.333700 -1.301852    -1.222430 -0.248636  1.032845   \n",
       "4 -0.774043 -1.116775  0.335206 -1.303118    -1.222429 -0.248701  1.031807   \n",
       "\n",
       "        i_q        pm  stator_yoke  stator_tooth  stator_winding  profile_id  \n",
       "0 -0.245860 -2.522071    -1.831422     -2.066143       -2.018033           4  \n",
       "1 -0.245832 -2.522418    -1.830969     -2.064859       -2.017631           4  \n",
       "2 -0.245818 -2.522673    -1.830400     -2.064073       -2.017343           4  \n",
       "3 -0.246955 -2.521639    -1.830333     -2.063137       -2.017632           4  \n",
       "4 -0.246610 -2.521900    -1.830498     -2.062795       -2.018145           4  "
      ]
     },
     "execution_count": 5,
     "metadata": {},
     "output_type": "execute_result"
    }
   ],
   "source": [
    "data=pd.read_csv('electric_motor.csv')\n",
    "data.head()"
   ]
  },
  {
   "cell_type": "code",
   "execution_count": 6,
   "id": "113ba177",
   "metadata": {},
   "outputs": [
    {
     "name": "stdout",
     "output_type": "stream",
     "text": [
      "['u_d', 'i_q', 'motor_speed', 'i_d', 'ambient', 'coolant', 'stator_winding', 'stator_yoke', 'torque', 'stator_tooth', 'u_q']\n",
      "['pm']\n",
      "['ambient', 'coolant', 'i_d', 'i_q', 'motor_speed', 'stator_tooth', 'stator_winding', 'stator_yoke', 'torque', 'u_d', 'u_q']\n"
     ]
    }
   ],
   "source": [
    "data_columns_list=list(data.columns)\n",
    "input_columns_list=list(set(data_columns_list)-\n",
    "set(['pm','profile_id']))\n",
    "print(input_columns_list)\n",
    "output_list=list(['pm'])\n",
    "print(output_list)\n",
    "input_columns_list.sort()\n",
    "print(input_columns_list)\n"
   ]
  },
  {
   "cell_type": "code",
   "execution_count": 7,
   "id": "c4e58c4d",
   "metadata": {},
   "outputs": [
    {
     "name": "stdout",
     "output_type": "stream",
     "text": [
      "         ambient   coolant       u_d       u_q  motor_speed    torque  \\\n",
      "0      -0.753416 -1.120454  0.323842 -1.289164    -1.214600 -0.247367   \n",
      "1      -0.772669 -1.119032  0.325575 -1.288994    -1.214601 -0.246316   \n",
      "2      -0.784378 -1.118693  0.328689 -1.293119    -1.214600 -0.246615   \n",
      "3      -0.782408 -1.118776  0.329619 -1.293150    -1.214602 -0.245818   \n",
      "4      -0.775467 -1.118787  0.331128 -1.294413    -1.214601 -0.245883   \n",
      "...          ...       ...       ...       ...          ...       ...   \n",
      "998065 -0.043894  0.336101  0.327389 -1.237541    -1.214600 -0.252836   \n",
      "998066 -0.045245  0.314537  0.327616 -1.242071    -1.214609 -0.252836   \n",
      "998067 -0.038711  0.301961  0.326859 -1.238277    -1.214602 -0.252836   \n",
      "998068 -0.035774  0.296640  0.326900 -1.240924    -1.214604 -0.252836   \n",
      "998069 -0.040173  0.307199  0.326743 -1.238017    -1.214603 -0.252836   \n",
      "\n",
      "             i_d       i_q        pm  stator_yoke  stator_tooth  \\\n",
      "0       1.024560 -0.243174 -2.522071    -1.830112     -2.064767   \n",
      "1       1.024497 -0.243146 -2.522418    -1.829659     -2.063483   \n",
      "2       1.024435 -0.243132 -2.522673    -1.829091     -2.062697   \n",
      "3       1.027836 -0.244271 -2.521639    -1.829024     -2.061760   \n",
      "4       1.026797 -0.243925 -2.521900    -1.829189     -2.061418   \n",
      "...          ...       ...       ...          ...           ...   \n",
      "998065  1.024130 -0.243036  0.429853     1.016892      0.838630   \n",
      "998066  1.024135 -0.243049  0.429751     1.011746      0.836983   \n",
      "998067  1.024178 -0.243015  0.429439     1.001246      0.836481   \n",
      "998068  1.024134 -0.243041  0.429558     0.997502      0.833048   \n",
      "998069  1.024128 -0.243036  0.429166     0.985520      0.830588   \n",
      "\n",
      "        stator_winding  profile_id  \n",
      "0            -2.017442           4  \n",
      "1            -2.017040           4  \n",
      "2            -2.016752           4  \n",
      "3            -2.017041           4  \n",
      "4            -2.017555           4  \n",
      "...                ...         ...  \n",
      "998065        0.499487          72  \n",
      "998066        0.499041          72  \n",
      "998067        0.497425          72  \n",
      "998068        0.495337          72  \n",
      "998069        0.494136          72  \n",
      "\n",
      "[998070 rows x 13 columns]\n"
     ]
    }
   ],
   "source": [
    "from sklearn.preprocessing import StandardScaler\n",
    "sc=StandardScaler()\n",
    "data[input_columns_list]=sc.fit_transform(data[input_columns_list])\n",
    "print(data)\n"
   ]
  },
  {
   "cell_type": "code",
   "execution_count": 8,
   "id": "91dabd58",
   "metadata": {},
   "outputs": [
    {
     "name": "stdout",
     "output_type": "stream",
     "text": [
      "                 ambient   coolant       i_d       i_q  motor_speed  \\\n",
      "ambient         1.000001  0.434436  0.005605 -0.260562     0.078283   \n",
      "coolant         0.434436  1.000001  0.108489 -0.186060    -0.033332   \n",
      "i_d             0.005605  0.108489  1.000001 -0.204230    -0.722915   \n",
      "i_q            -0.260562 -0.186060 -0.204230  1.000001     0.006323   \n",
      "motor_speed     0.078283 -0.033332 -0.722915  0.006323     1.000001   \n",
      "stator_tooth    0.396742  0.689004 -0.387712 -0.025192     0.333910   \n",
      "stator_winding  0.301884  0.509298 -0.539925  0.060949     0.393155   \n",
      "stator_yoke     0.451617  0.874038 -0.179903 -0.098753     0.182564   \n",
      "torque         -0.262264 -0.189617 -0.239060  0.996561     0.024517   \n",
      "u_d             0.194754  0.178709  0.358518 -0.796587    -0.233828   \n",
      "u_q             0.087430  0.027851 -0.181855 -0.026348     0.716898   \n",
      "\n",
      "                stator_tooth  stator_winding  stator_yoke    torque       u_d  \\\n",
      "ambient             0.396742        0.301884     0.451617 -0.262264  0.194754   \n",
      "coolant             0.689004        0.509298     0.874038 -0.189617  0.178709   \n",
      "i_d                -0.387712       -0.539925    -0.179903 -0.239060  0.358518   \n",
      "i_q                -0.025192        0.060949    -0.098753  0.996561 -0.796587   \n",
      "motor_speed         0.333910        0.393155     0.182564  0.024517 -0.233828   \n",
      "stator_tooth        1.000001        0.965634     0.949899 -0.011055 -0.066256   \n",
      "stator_winding      0.965634        1.000001     0.845145  0.080981 -0.150714   \n",
      "stator_yoke         0.949899        0.845145     1.000001 -0.092207  0.041428   \n",
      "torque             -0.011055        0.080981    -0.092207  1.000001 -0.821326   \n",
      "u_d                -0.066256       -0.150714     0.041428 -0.821326  1.000001   \n",
      "u_q                 0.149017        0.125445     0.106187 -0.037262 -0.027472   \n",
      "\n",
      "                     u_q  \n",
      "ambient         0.087430  \n",
      "coolant         0.027851  \n",
      "i_d            -0.181855  \n",
      "i_q            -0.026348  \n",
      "motor_speed     0.716898  \n",
      "stator_tooth    0.149017  \n",
      "stator_winding  0.125445  \n",
      "stator_yoke     0.106187  \n",
      "torque         -0.037262  \n",
      "u_d            -0.027472  \n",
      "u_q             1.000001  \n"
     ]
    }
   ],
   "source": [
    "#B:\n",
    "input_data=data[input_columns_list]\n",
    "cov_matrix=input_data.cov()\n",
    "print(cov_matrix)\n"
   ]
  },
  {
   "cell_type": "code",
   "execution_count": 9,
   "id": "5eba299e",
   "metadata": {},
   "outputs": [
    {
     "data": {
      "text/plain": [
       "[(3.9553262258871866,\n",
       "  array([ 0.00205195, -0.02569351,  0.02518613, -0.68136998,  0.01576494,\n",
       "         -0.02817042, -0.01324635,  0.05860679,  0.72636119,  0.04656725,\n",
       "          0.00385081])),\n",
       " (3.126649594583,\n",
       "  array([ 0.00205195, -0.02569351,  0.02518613, -0.68136998,  0.01576494,\n",
       "         -0.02817042, -0.01324635,  0.05860679,  0.72636119,  0.04656725,\n",
       "          0.00385081])),\n",
       " (1.8151763109167807,\n",
       "  array([ 0.00205195, -0.02569351,  0.02518613, -0.68136998,  0.01576494,\n",
       "         -0.02817042, -0.01324635,  0.05860679,  0.72636119,  0.04656725,\n",
       "          0.00385081])),\n",
       " (0.876838249023958,\n",
       "  array([ 0.00205195, -0.02569351,  0.02518613, -0.68136998,  0.01576494,\n",
       "         -0.02817042, -0.01324635,  0.05860679,  0.72636119,  0.04656725,\n",
       "          0.00385081])),\n",
       " (0.6733779985624924,\n",
       "  array([ 0.00205195, -0.02569351,  0.02518613, -0.68136998,  0.01576494,\n",
       "         -0.02817042, -0.01324635,  0.05860679,  0.72636119,  0.04656725,\n",
       "          0.00385081])),\n",
       " (0.2740495129394412,\n",
       "  array([ 0.00205195, -0.02569351,  0.02518613, -0.68136998,  0.01576494,\n",
       "         -0.02817042, -0.01324635,  0.05860679,  0.72636119,  0.04656725,\n",
       "          0.00385081])),\n",
       " (0.21717093918478284,\n",
       "  array([ 0.00205195, -0.02569351,  0.02518613, -0.68136998,  0.01576494,\n",
       "         -0.02817042, -0.01324635,  0.05860679,  0.72636119,  0.04656725,\n",
       "          0.00385081])),\n",
       " (0.04950805855264753,\n",
       "  array([ 0.00205195, -0.02569351,  0.02518613, -0.68136998,  0.01576494,\n",
       "         -0.02817042, -0.01324635,  0.05860679,  0.72636119,  0.04656725,\n",
       "          0.00385081])),\n",
       " (0.008974252828338514,\n",
       "  array([ 0.00205195, -0.02569351,  0.02518613, -0.68136998,  0.01576494,\n",
       "         -0.02817042, -0.01324635,  0.05860679,  0.72636119,  0.04656725,\n",
       "          0.00385081])),\n",
       " (0.0009037779802785378,\n",
       "  array([ 0.00205195, -0.02569351,  0.02518613, -0.68136998,  0.01576494,\n",
       "         -0.02817042, -0.01324635,  0.05860679,  0.72636119,  0.04656725,\n",
       "          0.00385081])),\n",
       " (0.0020361008231908955,\n",
       "  array([ 0.00205195, -0.02569351,  0.02518613, -0.68136998,  0.01576494,\n",
       "         -0.02817042, -0.01324635,  0.05860679,  0.72636119,  0.04656725,\n",
       "          0.00385081]))]"
      ]
     },
     "execution_count": 9,
     "metadata": {},
     "output_type": "execute_result"
    }
   ],
   "source": [
    "#c:\n",
    "eig_val,eig_vec=np.linalg.eig(cov_matrix.to_numpy())\n",
    "len(eig_val)\n",
    "11\n",
    "eig_pairs=[(np.abs(eig_val[i]),eig_vec[:,-1])for i in\n",
    "range(len(eig_val))]\n",
    "eig_pairs\n"
   ]
  },
  {
   "cell_type": "code",
   "execution_count": 10,
   "id": "4e247fc6",
   "metadata": {},
   "outputs": [
    {
     "name": "stdout",
     "output_type": "stream",
     "text": [
      "[(3.9553262258871866, array([ 0.00205195, -0.02569351,  0.02518613, -0.68136998,  0.01576494,\n",
      "       -0.02817042, -0.01324635,  0.05860679,  0.72636119,  0.04656725,\n",
      "        0.00385081])), (3.126649594583, array([ 0.00205195, -0.02569351,  0.02518613, -0.68136998,  0.01576494,\n",
      "       -0.02817042, -0.01324635,  0.05860679,  0.72636119,  0.04656725,\n",
      "        0.00385081])), (1.8151763109167807, array([ 0.00205195, -0.02569351,  0.02518613, -0.68136998,  0.01576494,\n",
      "       -0.02817042, -0.01324635,  0.05860679,  0.72636119,  0.04656725,\n",
      "        0.00385081])), (0.876838249023958, array([ 0.00205195, -0.02569351,  0.02518613, -0.68136998,  0.01576494,\n",
      "       -0.02817042, -0.01324635,  0.05860679,  0.72636119,  0.04656725,\n",
      "        0.00385081])), (0.6733779985624924, array([ 0.00205195, -0.02569351,  0.02518613, -0.68136998,  0.01576494,\n",
      "       -0.02817042, -0.01324635,  0.05860679,  0.72636119,  0.04656725,\n",
      "        0.00385081])), (0.2740495129394412, array([ 0.00205195, -0.02569351,  0.02518613, -0.68136998,  0.01576494,\n",
      "       -0.02817042, -0.01324635,  0.05860679,  0.72636119,  0.04656725,\n",
      "        0.00385081])), (0.21717093918478284, array([ 0.00205195, -0.02569351,  0.02518613, -0.68136998,  0.01576494,\n",
      "       -0.02817042, -0.01324635,  0.05860679,  0.72636119,  0.04656725,\n",
      "        0.00385081])), (0.04950805855264753, array([ 0.00205195, -0.02569351,  0.02518613, -0.68136998,  0.01576494,\n",
      "       -0.02817042, -0.01324635,  0.05860679,  0.72636119,  0.04656725,\n",
      "        0.00385081])), (0.008974252828338514, array([ 0.00205195, -0.02569351,  0.02518613, -0.68136998,  0.01576494,\n",
      "       -0.02817042, -0.01324635,  0.05860679,  0.72636119,  0.04656725,\n",
      "        0.00385081])), (0.0020361008231908955, array([ 0.00205195, -0.02569351,  0.02518613, -0.68136998,  0.01576494,\n",
      "       -0.02817042, -0.01324635,  0.05860679,  0.72636119,  0.04656725,\n",
      "        0.00385081])), (0.0009037779802785378, array([ 0.00205195, -0.02569351,  0.02518613, -0.68136998,  0.01576494,\n",
      "       -0.02817042, -0.01324635,  0.05860679,  0.72636119,  0.04656725,\n",
      "        0.00385081]))]\n"
     ]
    }
   ],
   "source": [
    "#D:\n",
    "eig_pairs.sort(key=lambda x:x[0], reverse=True)\n",
    "print(eig_pairs)\n"
   ]
  },
  {
   "cell_type": "code",
   "execution_count": 14,
   "id": "73759cb8",
   "metadata": {},
   "outputs": [
    {
     "name": "stdout",
     "output_type": "stream",
     "text": [
      "eigenvalue 1:35.95747511738563\n",
      "eigenvalue 2:28.424058744430024\n",
      "eigenvalue 3:16.50158629300368\n",
      "eigenvalue 4:7.971248822637624\n",
      "eigenvalue 5:6.121612035294191\n",
      "eigenvalue 6:2.4913567123635443\n"
     ]
    }
   ],
   "source": [
    "#E:\n",
    "threshold=0.95\n",
    "Total_variance=0.0\n",
    "count=0\n",
    "eigv_sum=np.sum(eig_val)\n",
    "for i,j in enumerate(eig_pairs):\n",
    " variance=(j[0]/eigv_sum).real\n",
    " print('eigenvalue {}:{}'.format(i+1,(j[0]/eigv_sum).real*100))\n",
    " Total_variance=Total_variance+variance\n",
    " count=count+1\n",
    " if (Total_variance>=threshold):\n",
    "     break\n",
    " \n"
   ]
  },
  {
   "cell_type": "code",
   "execution_count": 15,
   "id": "d588f5eb",
   "metadata": {},
   "outputs": [
    {
     "name": "stdout",
     "output_type": "stream",
     "text": [
      "0.9746733772511469\n",
      "Total number of eigenvectors is 11\n",
      "Total number of important feautures are 6\n"
     ]
    }
   ],
   "source": [
    "print(Total_variance)\n",
    "print('Total number of eigenvectors is {}'.format(len(eig_vec)))\n",
    "print('Total number of important feautures are {}'.format(count))\n"
   ]
  },
  {
   "cell_type": "code",
   "execution_count": null,
   "id": "766bd2d2",
   "metadata": {},
   "outputs": [],
   "source": []
  },
  {
   "cell_type": "code",
   "execution_count": null,
   "id": "cc3547a9",
   "metadata": {},
   "outputs": [],
   "source": []
  },
  {
   "cell_type": "code",
   "execution_count": null,
   "id": "d20383ab",
   "metadata": {},
   "outputs": [],
   "source": []
  }
 ],
 "metadata": {
  "kernelspec": {
   "display_name": "Python 3 (ipykernel)",
   "language": "python",
   "name": "python3"
  },
  "language_info": {
   "codemirror_mode": {
    "name": "ipython",
    "version": 3
   },
   "file_extension": ".py",
   "mimetype": "text/x-python",
   "name": "python",
   "nbconvert_exporter": "python",
   "pygments_lexer": "ipython3",
   "version": "3.9.12"
  }
 },
 "nbformat": 4,
 "nbformat_minor": 5
}
