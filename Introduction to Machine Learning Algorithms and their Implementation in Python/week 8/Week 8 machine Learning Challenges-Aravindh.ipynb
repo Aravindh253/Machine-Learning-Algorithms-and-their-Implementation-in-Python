{
 "cells": [
  {
   "cell_type": "markdown",
   "id": "3e6985fe",
   "metadata": {},
   "source": [
    "## 1.Calculate the Eigen value and Eigen vector for the following matrices and sort the Eigenvector in decreasing order of magnitude of Eigen values."
   ]
  },
  {
   "cell_type": "code",
   "execution_count": 1,
   "id": "d9cb2bf7",
   "metadata": {},
   "outputs": [],
   "source": [
    "import pandas as pd\n",
    "import matplotlib.pyplot as plt\n",
    "import seaborn as sns\n",
    "import numpy as np\n",
    "import numpy.linalg as linalg\n",
    "from matplotlib import pyplot\n",
    "from sklearn.decomposition import PCA\n",
    "from sklearn import preprocessing"
   ]
  },
  {
   "cell_type": "code",
   "execution_count": 2,
   "id": "46e1f1af",
   "metadata": {},
   "outputs": [
    {
     "data": {
      "text/html": [
       "<div>\n",
       "<style scoped>\n",
       "    .dataframe tbody tr th:only-of-type {\n",
       "        vertical-align: middle;\n",
       "    }\n",
       "\n",
       "    .dataframe tbody tr th {\n",
       "        vertical-align: top;\n",
       "    }\n",
       "\n",
       "    .dataframe thead th {\n",
       "        text-align: right;\n",
       "    }\n",
       "</style>\n",
       "<table border=\"1\" class=\"dataframe\">\n",
       "  <thead>\n",
       "    <tr style=\"text-align: right;\">\n",
       "      <th></th>\n",
       "      <th>ambient</th>\n",
       "      <th>coolant</th>\n",
       "      <th>u_d</th>\n",
       "      <th>u_q</th>\n",
       "      <th>motor_speed</th>\n",
       "      <th>torque</th>\n",
       "      <th>i_d</th>\n",
       "      <th>i_q</th>\n",
       "      <th>pm</th>\n",
       "      <th>stator_yoke</th>\n",
       "      <th>stator_tooth</th>\n",
       "      <th>stator_winding</th>\n",
       "      <th>profile_id</th>\n",
       "    </tr>\n",
       "  </thead>\n",
       "  <tbody>\n",
       "    <tr>\n",
       "      <th>0</th>\n",
       "      <td>-0.752143</td>\n",
       "      <td>-1.118446</td>\n",
       "      <td>0.327935</td>\n",
       "      <td>-1.297858</td>\n",
       "      <td>-1.222428</td>\n",
       "      <td>-0.250182</td>\n",
       "      <td>1.029572</td>\n",
       "      <td>-0.245860</td>\n",
       "      <td>-2.522071</td>\n",
       "      <td>-1.831422</td>\n",
       "      <td>-2.066143</td>\n",
       "      <td>-2.018033</td>\n",
       "      <td>4</td>\n",
       "    </tr>\n",
       "    <tr>\n",
       "      <th>1</th>\n",
       "      <td>-0.771263</td>\n",
       "      <td>-1.117021</td>\n",
       "      <td>0.329665</td>\n",
       "      <td>-1.297686</td>\n",
       "      <td>-1.222429</td>\n",
       "      <td>-0.249133</td>\n",
       "      <td>1.029509</td>\n",
       "      <td>-0.245832</td>\n",
       "      <td>-2.522418</td>\n",
       "      <td>-1.830969</td>\n",
       "      <td>-2.064859</td>\n",
       "      <td>-2.017631</td>\n",
       "      <td>4</td>\n",
       "    </tr>\n",
       "    <tr>\n",
       "      <th>2</th>\n",
       "      <td>-0.782892</td>\n",
       "      <td>-1.116681</td>\n",
       "      <td>0.332771</td>\n",
       "      <td>-1.301822</td>\n",
       "      <td>-1.222428</td>\n",
       "      <td>-0.249431</td>\n",
       "      <td>1.029448</td>\n",
       "      <td>-0.245818</td>\n",
       "      <td>-2.522673</td>\n",
       "      <td>-1.830400</td>\n",
       "      <td>-2.064073</td>\n",
       "      <td>-2.017343</td>\n",
       "      <td>4</td>\n",
       "    </tr>\n",
       "    <tr>\n",
       "      <th>3</th>\n",
       "      <td>-0.780935</td>\n",
       "      <td>-1.116764</td>\n",
       "      <td>0.333700</td>\n",
       "      <td>-1.301852</td>\n",
       "      <td>-1.222430</td>\n",
       "      <td>-0.248636</td>\n",
       "      <td>1.032845</td>\n",
       "      <td>-0.246955</td>\n",
       "      <td>-2.521639</td>\n",
       "      <td>-1.830333</td>\n",
       "      <td>-2.063137</td>\n",
       "      <td>-2.017632</td>\n",
       "      <td>4</td>\n",
       "    </tr>\n",
       "    <tr>\n",
       "      <th>4</th>\n",
       "      <td>-0.774043</td>\n",
       "      <td>-1.116775</td>\n",
       "      <td>0.335206</td>\n",
       "      <td>-1.303118</td>\n",
       "      <td>-1.222429</td>\n",
       "      <td>-0.248701</td>\n",
       "      <td>1.031807</td>\n",
       "      <td>-0.246610</td>\n",
       "      <td>-2.521900</td>\n",
       "      <td>-1.830498</td>\n",
       "      <td>-2.062795</td>\n",
       "      <td>-2.018145</td>\n",
       "      <td>4</td>\n",
       "    </tr>\n",
       "  </tbody>\n",
       "</table>\n",
       "</div>"
      ],
      "text/plain": [
       "    ambient   coolant       u_d       u_q  motor_speed    torque       i_d  \\\n",
       "0 -0.752143 -1.118446  0.327935 -1.297858    -1.222428 -0.250182  1.029572   \n",
       "1 -0.771263 -1.117021  0.329665 -1.297686    -1.222429 -0.249133  1.029509   \n",
       "2 -0.782892 -1.116681  0.332771 -1.301822    -1.222428 -0.249431  1.029448   \n",
       "3 -0.780935 -1.116764  0.333700 -1.301852    -1.222430 -0.248636  1.032845   \n",
       "4 -0.774043 -1.116775  0.335206 -1.303118    -1.222429 -0.248701  1.031807   \n",
       "\n",
       "        i_q        pm  stator_yoke  stator_tooth  stator_winding  profile_id  \n",
       "0 -0.245860 -2.522071    -1.831422     -2.066143       -2.018033           4  \n",
       "1 -0.245832 -2.522418    -1.830969     -2.064859       -2.017631           4  \n",
       "2 -0.245818 -2.522673    -1.830400     -2.064073       -2.017343           4  \n",
       "3 -0.246955 -2.521639    -1.830333     -2.063137       -2.017632           4  \n",
       "4 -0.246610 -2.521900    -1.830498     -2.062795       -2.018145           4  "
      ]
     },
     "execution_count": 2,
     "metadata": {},
     "output_type": "execute_result"
    }
   ],
   "source": [
    "data=pd.read_csv(\"electric_motor.csv\")\n",
    "data.head()\n"
   ]
  },
  {
   "cell_type": "code",
   "execution_count": 3,
   "id": "2789f0bf",
   "metadata": {},
   "outputs": [
    {
     "name": "stdout",
     "output_type": "stream",
     "text": [
      "[10.0862564   4.45231344 -2.53856984]\n",
      "[[-0.62581291  0.3003003   0.59754478]\n",
      " [-0.56795402 -0.87594531  0.04752115]\n",
      " [-0.53458996  0.3775441  -0.80042612]]\n"
     ]
    }
   ],
   "source": [
    "x = [[4,2,5],[2,6,2],[6,1,2]]\n",
    "eigenValues, eigenVectors = linalg.eig(x)\n",
    "idx = eigenValues.argsort()[::-1]\n",
    "eigen_values = eigenValues[idx]\n",
    "eigen_vector = eigenVectors[:,idx]\n",
    "print(eigen_values)\n",
    "print(eigen_vector)"
   ]
  },
  {
   "cell_type": "code",
   "execution_count": 4,
   "id": "a0bb7179",
   "metadata": {},
   "outputs": [
    {
     "name": "stdout",
     "output_type": "stream",
     "text": [
      "[ 9.70953904  4.23567914 -1.94521818]\n",
      "[[-0.58779736  0.30479966  0.53902619]\n",
      " [-0.60592357 -0.84456255  0.07548528]\n",
      " [-0.53605121  0.44024001 -0.83889972]]\n"
     ]
    }
   ],
   "source": [
    "y = [[4,2,4],[2,6,2],[6,1,2]]\n",
    "eigenValues, eigenVectors = linalg.eig(y)\n",
    "idy = eigenValues.argsort()[::-1]\n",
    "eigen_values1 = eigenValues[idy]\n",
    "eigen_vector2 = eigenVectors[:,idy]\n",
    "print(eigen_values1)\n",
    "print(eigen_vector2)"
   ]
  },
  {
   "cell_type": "code",
   "execution_count": 5,
   "id": "5bf2e02c",
   "metadata": {},
   "outputs": [
    {
     "name": "stdout",
     "output_type": "stream",
     "text": [
      "[ 9.84837399  3.68599053 -2.53436452]\n",
      "[[-0.65457471  0.24809842  0.59624933]\n",
      " [-0.50287543 -0.90472019  0.05434002]\n",
      " [-0.56448937  0.34630702 -0.80095811]]\n"
     ]
    }
   ],
   "source": [
    "z = [[4,2,5],[2,5,2],[6,1,2]]\n",
    "eigenValues, eigenVectors = linalg.eig(z)\n",
    "idz = eigenValues.argsort()[::-1]\n",
    "eigen_values3 = eigenValues[idz]\n",
    "eigen_vector4 = eigenVectors[:,idz]\n",
    "print(eigen_values3)\n",
    "print(eigen_vector4)"
   ]
  },
  {
   "cell_type": "code",
   "execution_count": null,
   "id": "3aec55ed",
   "metadata": {},
   "outputs": [],
   "source": []
  },
  {
   "cell_type": "markdown",
   "id": "1cb1e6fc",
   "metadata": {},
   "source": [
    "## 2. Now think it would be better, if you have defined a function for the above operation that takes input as matrix and give the output desired in question 5. Create a function to do that."
   ]
  },
  {
   "cell_type": "code",
   "execution_count": 6,
   "id": "2a7f5624",
   "metadata": {},
   "outputs": [
    {
     "name": "stdout",
     "output_type": "stream",
     "text": [
      "[10.0862564   4.45231344 -2.53856984]\n",
      "[[-0.62581291  0.3003003   0.59754478]\n",
      " [-0.56795402 -0.87594531  0.04752115]\n",
      " [-0.53458996  0.3775441  -0.80042612]]\n"
     ]
    }
   ],
   "source": [
    "def Eig_val_vect():\n",
    " lst1 = list(input('Enter the first row : '))\n",
    " lst2 = list(input('Enter the second row : '))\n",
    " lst3 = list(input('Enter the third row : '))\n",
    " x= np.array([lst1]+[lst2]+[lst3])\n",
    "\n",
    " eigenValues, eigenVectors = linalg.eig(x)\n",
    " idx = eigenValues.argsort()[::-1]\n",
    " eigen_values = eigenValues[idx]\n",
    " eigen_vector = eigenVectors[:,idx]\n",
    "\n",
    "print(eigen_values)\n",
    "print(eigen_vector)"
   ]
  },
  {
   "cell_type": "markdown",
   "id": "a73262f3",
   "metadata": {},
   "source": [
    "## 3. Repeat the above task using singular value decomposition. Report your observation."
   ]
  },
  {
   "cell_type": "code",
   "execution_count": 9,
   "id": "51f9ed73",
   "metadata": {},
   "outputs": [
    {
     "name": "stdout",
     "output_type": "stream",
     "text": [
      "[[3. 4. 3.]\n",
      " [1. 2. 3.]\n",
      " [4. 2. 1.]]\n"
     ]
    }
   ],
   "source": [
    "#Creating a matrix A\n",
    "A = np.array([[3,4,3],[1,2,3],[4,2,1]])\n",
    "#Performing SVD\n",
    "U, D, VT = np.linalg.svd(A)\n",
    "#Checking if we can remake the original matrix using U,D,VT\n",
    "A_remake = (U @ np.diag(D) @ VT)\n",
    "print(A_remake)\n"
   ]
  },
  {
   "cell_type": "markdown",
   "id": "6890db7c",
   "metadata": {},
   "source": [
    "## 4. Use your ‘elctric_motor.csv’ and calculate covariance matrix and then calculate Eigen value and Eigen vector and sort the Eigen vector in decreasing order of magnitude of Eigen values. This could also be done with slight change in the code."
   ]
  },
  {
   "cell_type": "code",
   "execution_count": 12,
   "id": "cc8bdd1a",
   "metadata": {},
   "outputs": [
    {
     "name": "stdout",
     "output_type": "stream",
     "text": [
      "['pm', 'ambient', 'i_d', 'stator_winding', 'profile_id', 'u_q', 'i_q', 'stator_tooth', 'coolant', 'stator_yoke', 'u_d']\n",
      "['motor_speed', 'torque']\n",
      "                      pm   ambient       i_d  stator_winding  profile_id  \\\n",
      "pm              0.991391  0.495901 -0.297636        0.725210    3.444704   \n",
      "ambient         0.495901  0.986301  0.005560        0.299312    8.430198   \n",
      "i_d            -0.297636  0.005560  0.997990       -0.538487    3.139344   \n",
      "stator_winding  0.725210  0.299312 -0.538487        0.996688    4.008615   \n",
      "profile_id      3.444704  8.430198  3.139344        4.008615  487.222866   \n",
      "u_q             0.101034  0.087031 -0.182095        0.125529   -2.704943   \n",
      "i_q            -0.085933 -0.258231 -0.203598        0.060721   -5.641714   \n",
      "stator_tooth    0.764730  0.393857 -0.387166        0.963645    6.199925   \n",
      "coolant         0.429730  0.432495  0.108642        0.509686   11.055985   \n",
      "stator_yoke     0.692742  0.448983 -0.179911        0.844629    8.794776   \n",
      "u_d            -0.082034  0.193005  0.357397       -0.150145    6.624865   \n",
      "\n",
      "                     u_q       i_q  stator_tooth    coolant  stator_yoke  \\\n",
      "pm              0.101034 -0.085933      0.764730   0.429730     0.692742   \n",
      "ambient         0.087031 -0.258231      0.393857   0.432495     0.448983   \n",
      "i_d            -0.182095 -0.203598     -0.387166   0.108642    -0.179911   \n",
      "stator_winding  0.125529  0.060721      0.963645   0.509686     0.844629   \n",
      "profile_id     -2.704943 -5.641714      6.199925  11.055985     8.794776   \n",
      "u_q             1.004666 -0.026355      0.149304   0.027984     0.106546   \n",
      "i_q            -0.026355  0.995829     -0.025129  -0.186121    -0.098650   \n",
      "stator_tooth    0.149304 -0.025129      0.999195   0.690395     0.950512   \n",
      "coolant         0.027984 -0.186121      0.690395   1.004853     0.877074   \n",
      "stator_yoke     0.106546 -0.098650      0.950512   0.877074     1.002099   \n",
      "u_d            -0.027478 -0.793236     -0.066089   0.178761     0.041384   \n",
      "\n",
      "                     u_d  \n",
      "pm             -0.082034  \n",
      "ambient         0.193005  \n",
      "i_d             0.357397  \n",
      "stator_winding -0.150145  \n",
      "profile_id      6.624865  \n",
      "u_q            -0.027478  \n",
      "i_q            -0.793236  \n",
      "stator_tooth   -0.066089  \n",
      "coolant         0.178761  \n",
      "stator_yoke     0.041384  \n",
      "u_d             0.995761  \n"
     ]
    }
   ],
   "source": [
    "features = list(set(data.columns)-set(['motor_speed','torque']))\n",
    "target = list(['motor_speed','torque'])\n",
    "print(features)\n",
    "print(target)\n",
    "['stator_tooth', 'stator_winding', 'coolant', 'ambient', 'i_d', 'i_q',\n",
    "'pm', 'profile_id', 'u_d', 'stator_yoke', 'u_q']\n",
    "['motor_speed', 'torque']\n",
    "x = data.loc[:,features]\n",
    "y = data.loc[:,target].astype(float)\n",
    "cova_matr = x.cov()\n",
    "print(cova_matr)"
   ]
  },
  {
   "cell_type": "code",
   "execution_count": null,
   "id": "ad1c4b25",
   "metadata": {},
   "outputs": [],
   "source": []
  }
 ],
 "metadata": {
  "kernelspec": {
   "display_name": "Python 3 (ipykernel)",
   "language": "python",
   "name": "python3"
  },
  "language_info": {
   "codemirror_mode": {
    "name": "ipython",
    "version": 3
   },
   "file_extension": ".py",
   "mimetype": "text/x-python",
   "name": "python",
   "nbconvert_exporter": "python",
   "pygments_lexer": "ipython3",
   "version": "3.9.12"
  }
 },
 "nbformat": 4,
 "nbformat_minor": 5
}
